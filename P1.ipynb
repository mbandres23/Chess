{
 "cells": [
  {
   "cell_type": "markdown",
   "id": "69ca5df9-0ee7-4152-b5c9-c7b9d2076b9d",
   "metadata": {},
   "source": [
    "Python Developer Test Questions"
   ]
  },
  {
   "cell_type": "markdown",
   "id": "6303d573-cd6b-449f-bdff-b599286135ad",
   "metadata": {},
   "source": [
    "Question 1\n",
    "Create a base class with:\n",
    " - Three properties initialized at construction\n",
    " - One empty classmethod\n",
    " - One empty instance method"
   ]
  },
  {
   "cell_type": "code",
   "execution_count": 1,
   "id": "180853b6-bc06-4d4b-8f46-96988fbaeab1",
   "metadata": {},
   "outputs": [],
   "source": [
    "class SavingsAccount:\n",
    "    \n",
    "    # class variable used in Q2\n",
    "    interest_rate = 0.01\n",
    "    \n",
    "    # initialize 3 variables\n",
    "    def __init__(self, customer_name, account_number, balance):\n",
    "        self.customer_name = customer_name\n",
    "        self.account_number = account_number\n",
    "        self.balance = balance\n",
    "        \n",
    "    # empty class method\n",
    "    @classmethod\n",
    "    def change_int_rate(cls, new_rate):\n",
    "        pass\n",
    "        \n",
    "    # empty instance method\n",
    "    def calculate_monthly_interest(self):\n",
    "        pass"
   ]
  },
  {
   "cell_type": "code",
   "execution_count": 2,
   "id": "503256c4-ebff-4dac-88d6-1058aa4838b8",
   "metadata": {},
   "outputs": [],
   "source": [
    "my_account1 = SavingsAccount('Marco Bohorquez', 1001, 1000000)"
   ]
  },
  {
   "cell_type": "code",
   "execution_count": 3,
   "id": "0961da6b-91e4-4598-be81-cbf303ca8a3f",
   "metadata": {},
   "outputs": [
    {
     "name": "stdout",
     "output_type": "stream",
     "text": [
      "Customer: Marco Bohorquez \tAccount #: 1001 \tBalance: $1,000,000 \tInt. Rate: 1.00%\n"
     ]
    }
   ],
   "source": [
    "print( 'Customer: {} \\tAccount #: {} \\tBalance: ${:,} \\tInt. Rate: {:.2f}%'.format(\n",
    "    my_account1.customer_name, my_account1.account_number, my_account1.balance, my_account1.interest_rate*100) )"
   ]
  },
  {
   "cell_type": "markdown",
   "id": "9bd72bbf-4a22-4f09-9e23-0124e767b405",
   "metadata": {},
   "source": [
    "Question 2\n",
    " - Create a derived class from the base class from Question 1 as follows:\n",
    " - Inherit all properties and methods from the base class\n",
    " - Initialize the properties differently from the base class\n",
    " - Add code to the empty methods"
   ]
  },
  {
   "cell_type": "code",
   "execution_count": 4,
   "id": "86c95b4e-d748-4010-bd24-7ccaa78be537",
   "metadata": {},
   "outputs": [],
   "source": [
    "class HighYieldSavingsAccount(SavingsAccount):\n",
    "    \n",
    "    interest_rate = 0.02\n",
    "    \n",
    "    # initialize properties differently from base class\n",
    "    def __init__(self, customer_name, account_number, balance):\n",
    "        self.customer_name = 'HY_' + customer_name\n",
    "        self.account_number = 20000 + account_number\n",
    "        self.balance = balance + 1000 # new account bonus\n",
    "\n",
    "    # override class method\n",
    "    @classmethod\n",
    "    def change_int_rate(cls, new_rate):\n",
    "        cls.interest_rate = new_rate\n",
    "        \n",
    "    # override instance method\n",
    "    def calculate_monthly_interest(self):\n",
    "        return self.balance * HighYieldSavingsAccount.interest_rate / 12"
   ]
  },
  {
   "cell_type": "code",
   "execution_count": 5,
   "id": "ddc6e086-0481-478a-beb7-9e6a7fcfbf7d",
   "metadata": {},
   "outputs": [],
   "source": [
    "my_account2 = HighYieldSavingsAccount('Bruce Wayne', 1002, 2000)"
   ]
  },
  {
   "cell_type": "code",
   "execution_count": 6,
   "id": "d6396fd6-9418-4e3d-9ee2-32a75d879c05",
   "metadata": {},
   "outputs": [
    {
     "name": "stdout",
     "output_type": "stream",
     "text": [
      "Customer: HY_Bruce Wayne \tAccount #: 21002 \tBalance: $3,000 \tInt. Rate: 2.00% \tMonthly Interest: $5.00\n",
      "\n",
      "Customer: HY_Bruce Wayne \tAccount #: 21002 \tBalance: $3,000 \tInt. Rate: 1.00% \tMonthly Interest: $2.50\n",
      "\n",
      "Customer: HY_Bruce Wayne \tAccount #: 21002 \tBalance: $3,000 \tInt. Rate: 2.00% \tMonthly Interest: $5.00\n",
      "\n"
     ]
    }
   ],
   "source": [
    "# Adjusting the class variable and running the instance method\n",
    "print( 'Customer: {} \\tAccount #: {} \\tBalance: ${:,} \\tInt. Rate: {:.2f}% \\tMonthly Interest: ${:,.2f}\\n'.format(\n",
    "    my_account2.customer_name, my_account2.account_number, my_account2.balance, my_account2.interest_rate*100, my_account2.calculate_monthly_interest()) )\n",
    "\n",
    "my_account2.change_int_rate(0.01)\n",
    "\n",
    "print( 'Customer: {} \\tAccount #: {} \\tBalance: ${:,} \\tInt. Rate: {:.2f}% \\tMonthly Interest: ${:,.2f}\\n'.format(\n",
    "    my_account2.customer_name, my_account2.account_number, my_account2.balance, my_account2.interest_rate*100, my_account2.calculate_monthly_interest()) )\n",
    "\n",
    "my_account2.change_int_rate(0.02)\n",
    "\n",
    "print( 'Customer: {} \\tAccount #: {} \\tBalance: ${:,} \\tInt. Rate: {:.2f}% \\tMonthly Interest: ${:,.2f}\\n'.format(\n",
    "    my_account2.customer_name, my_account2.account_number, my_account2.balance, my_account2.interest_rate*100, my_account2.calculate_monthly_interest()) )"
   ]
  },
  {
   "cell_type": "markdown",
   "id": "34383672-1a38-42e3-9c22-95ec3d154a96",
   "metadata": {},
   "source": [
    "Question 3\n",
    "Use list comprehension and a lambda function to extract all of the even integers out of a list of integers"
   ]
  },
  {
   "cell_type": "code",
   "execution_count": 7,
   "id": "8cd30404-1c2a-47f8-adf0-315e41745b8a",
   "metadata": {},
   "outputs": [],
   "source": [
    "def get_even(list1):\n",
    "    \n",
    "    # this lambda returns true if the given integer is divisible by 2\n",
    "    is_even = lambda num: ( num%2 == 0 )\n",
    "    \n",
    "    # list comprehension using is_even to remove even integers\n",
    "    for x in list1:\n",
    "        if is_even(x):\n",
    "            list1.remove(x)\n",
    "            \n",
    "    return list1"
   ]
  },
  {
   "cell_type": "code",
   "execution_count": 8,
   "id": "d9cff169-8253-4e16-9e17-095160996312",
   "metadata": {},
   "outputs": [
    {
     "name": "stdout",
     "output_type": "stream",
     "text": [
      "[1, 2, 3, 4, 5, 6, 7, 8, 9, 10]\n",
      "[1, 3, 5, 7, 9]\n"
     ]
    }
   ],
   "source": [
    "# create list of integers\n",
    "int_list = [1,2,3,4,5,6,7,8,9,10]\n",
    "\n",
    "print(int_list)\n",
    "print( get_even(int_list) )"
   ]
  },
  {
   "cell_type": "markdown",
   "id": "a981b3a4-79ed-4372-9057-e651a86f2d3e",
   "metadata": {},
   "source": [
    "Question 4\n",
    "Use the next() function to find the first element in a list of dictionaries whose attribute ‘x’ = 5. Default to an empty dictionary if not found."
   ]
  },
  {
   "cell_type": "code",
   "execution_count": 9,
   "id": "807127cb-ef37-4217-acbf-156911aafc62",
   "metadata": {},
   "outputs": [],
   "source": [
    "import random"
   ]
  },
  {
   "cell_type": "code",
   "execution_count": 10,
   "id": "14870f8d-f0bb-4cd8-bf3f-654db25e2805",
   "metadata": {},
   "outputs": [],
   "source": [
    "def get_first(d_list):\n",
    "    \n",
    "    # create iterator from given list\n",
    "    iter_list = iter(d_list)\n",
    "    \n",
    "    # set a as first item, default to an empty dictionary\n",
    "    a = next(iter_list, {})\n",
    "    \n",
    "    index = 0\n",
    "    while index < len(d_list)+1:\n",
    "        \n",
    "        # if current a has attribute 'x'= 5, end loop to return current item\n",
    "        if a.get('x') == 5:\n",
    "            break\n",
    "            \n",
    "        # otherwise, continue iterating through list\n",
    "        a = next(iter_list, {})\n",
    "        index+=1\n",
    "        \n",
    "    return a"
   ]
  },
  {
   "cell_type": "code",
   "execution_count": 11,
   "id": "a339162e-1c74-4ab8-9034-30bd3d0798d5",
   "metadata": {},
   "outputs": [
    {
     "name": "stdout",
     "output_type": "stream",
     "text": [
      "{'x': 9, 'y': 9}\n",
      "{'x': 6, 'y': 5}\n",
      "{'x': 5, 'y': 5}\n",
      "{'x': 6, 'y': 2}\n",
      "{'x': 1, 'y': 7}\n",
      "{'x': 7, 'y': 1}\n",
      "{'x': 1, 'y': 1}\n",
      "{'x': 10, 'y': 2}\n",
      "{'x': 1, 'y': 3}\n",
      "{'x': 7, 'y': 7}\n"
     ]
    }
   ],
   "source": [
    "# create a list of dicitonaries with random values for x and y\n",
    "dict_list = []\n",
    "\n",
    "for x in range(10):\n",
    "    dict_list.append( {'x' : random.randint(0,10), 'y' : random.randint(0,10)} )\n",
    "\n",
    "for x in dict_list:\n",
    "    print(x)  "
   ]
  },
  {
   "cell_type": "code",
   "execution_count": 12,
   "id": "4e3f66a0-b07d-46a6-a6fb-e790e84fce4f",
   "metadata": {},
   "outputs": [
    {
     "data": {
      "text/plain": [
       "{'x': 5, 'y': 5}"
      ]
     },
     "execution_count": 12,
     "metadata": {},
     "output_type": "execute_result"
    }
   ],
   "source": [
    "get_first(dict_list)"
   ]
  },
  {
   "cell_type": "markdown",
   "id": "89c10ff2-6873-4fa8-8791-05cb12edfa2b",
   "metadata": {},
   "source": [
    "Question 5\n",
    "Given the following JSON document:\n",
    "{\n",
    "\t\"claimId\": \"99999-100000\",\n",
    "\t\"payee\": {\n",
    "\t\t\"id\": 9999,\n",
    "\t\t\"role\": \"Payee\"\n",
    "\t},\n",
    "\t\"claimDateTime\": 1634860244000,\n",
    "\t\"invoiceCount\": 7,\n",
    "\t\"status\": \"LoadComplete\",\n",
    "\t\"invoiceIds\": [\n",
    "\t\t\"XXA15839\",\n",
    "\t\t\"XXA25829\",\n",
    "\t\t\"XXA35832\",\n",
    "\t\t\"XXA45830\",\n",
    "\t\t\"XXA55831\",\n",
    "\t\t\"XXA65833\",\n",
    "\t\t\"XXA75834\"\n",
    "\t],\n",
    "\t\"jobNumber\": 100000,\n",
    "\t\"fileName\": \"XXXXXX20211021235044.xml\",\n",
    "\t\"fileId\": 99999,\n",
    "\t\"fileDateTime\": 1634860244000,\n",
    "\t\"receivedDateTime\": 1634922275533,\n",
    "\t\"process\": \"TRANSACT\",\n",
    "\t\"transmitterId\": \"XXX\",\n",
    "\t\"retailerId\": \"RETAILERID\",\n",
    "\t\"plantName\": \"XXX1\",\n",
    "\t\"totalStoreCount\": 2,\n",
    "\t\"totalOfferCount\": 21,\n",
    "\t\"totalRecordCount\": 27,\n",
    "\t\"totalCouponCount\": 166,\n",
    "\t\"totalFaceValueAmount\": 445.58\n",
    "}\n",
    "\n",
    "Read in the document from a file\n",
    "Find and print:\n",
    "The Payee ID value\n",
    "Any invoices that contain the text “583”\n",
    "Change any date/time fields to text in the format ‘%Y-%m-%dT%H:%M:%S’\n",
    "Hint: The format of the date/time fields are integer timestamp. To create a datetime object from an integer timestamp, use the following:\n",
    "datetime_obj = datetime.datetime.fromtimestamp(integer_timestamp / 1e3)\n",
    "Write the json document back out to a new file\n"
   ]
  },
  {
   "cell_type": "code",
   "execution_count": 13,
   "id": "982dd52f-7cf8-4892-a564-edc45842d233",
   "metadata": {},
   "outputs": [],
   "source": [
    "import json\n",
    "import datetime"
   ]
  },
  {
   "cell_type": "code",
   "execution_count": 14,
   "id": "a01a2479-4027-4a21-ab72-f2022b378463",
   "metadata": {},
   "outputs": [],
   "source": [
    "# read file and store contents\n",
    "file_name = 'q5_file.json'\n",
    "f = open(file_name)\n",
    "contents = json.load(f)\n",
    "f.close()"
   ]
  },
  {
   "cell_type": "code",
   "execution_count": 15,
   "id": "9afb94d2-eb6d-4354-b9cc-ac45585168cf",
   "metadata": {},
   "outputs": [
    {
     "name": "stdout",
     "output_type": "stream",
     "text": [
      "Payee ID: 9999\n"
     ]
    }
   ],
   "source": [
    "# find and print Payee ID value\n",
    "print( 'Payee ID: ' + str( contents.get('payee').get('id') ) )"
   ]
  },
  {
   "cell_type": "code",
   "execution_count": 16,
   "id": "332a04f7-41c0-407c-81ef-734713261a4e",
   "metadata": {},
   "outputs": [
    {
     "name": "stdout",
     "output_type": "stream",
     "text": [
      "Invoices: \n",
      "XXA15839\n",
      "XXA35832\n",
      "XXA45830\n",
      "XXA55831\n",
      "XXA65833\n",
      "XXA75834\n"
     ]
    }
   ],
   "source": [
    "# find and print invoices containing \"583\"\n",
    "print('Invoices: ')\n",
    "for x in contents.get('invoiceIds'):\n",
    "    if '583' in x:\n",
    "        print(x)"
   ]
  },
  {
   "cell_type": "code",
   "execution_count": 17,
   "id": "8eccbf27-ec09-40b2-8ec4-ca2db4797157",
   "metadata": {},
   "outputs": [],
   "source": [
    "# create a list of the keys whose values we want to modify\n",
    "datetime_keys = ['claimDateTime', 'fileDateTime', 'receivedDateTime']\n",
    "\n",
    "# for each datetime field, create a datetime object and update the value in the dictionary\n",
    "for x in datetime_keys:\n",
    "    datetime_obj = datetime.datetime.fromtimestamp(contents.get(x) / 1e3)\n",
    "    contents.update( {x: datetime_obj.isoformat(timespec='seconds')} )"
   ]
  },
  {
   "cell_type": "code",
   "execution_count": 18,
   "id": "c45dd50e-3e28-4cc9-8576-c5f87ff78c2e",
   "metadata": {},
   "outputs": [],
   "source": [
    "# Write json contents back out to a new file\n",
    "new_contents = json.dumps(contents, indent=4)\n",
    "\n",
    "with open('q5_new_file.json','w') as outfile:\n",
    "    outfile.write(new_contents)"
   ]
  },
  {
   "cell_type": "code",
   "execution_count": null,
   "id": "80ba50cb-6536-4c79-a347-cc6c1b31450a",
   "metadata": {},
   "outputs": [],
   "source": []
  }
 ],
 "metadata": {
  "kernelspec": {
   "display_name": "Python 3 (ipykernel)",
   "language": "python",
   "name": "python3"
  },
  "language_info": {
   "codemirror_mode": {
    "name": "ipython",
    "version": 3
   },
   "file_extension": ".py",
   "mimetype": "text/x-python",
   "name": "python",
   "nbconvert_exporter": "python",
   "pygments_lexer": "ipython3",
   "version": "3.9.12"
  }
 },
 "nbformat": 4,
 "nbformat_minor": 5
}
